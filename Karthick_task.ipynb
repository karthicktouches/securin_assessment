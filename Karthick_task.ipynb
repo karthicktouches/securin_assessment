{
  "cells": [
    {
      "cell_type": "code",
      "execution_count": 2,
      "metadata": {},
      "outputs": [
        {
          "name": "stdout",
          "output_type": "stream",
          "text": [
            "Total combinations possible: 36\n"
          ]
        }
      ],
      "source": [
        "#question 1\n",
        "import math\n",
        "\n",
        "# Enumerating possibilities\n",
        "dieA = [1, 2, 3, 4, 5, 6]\n",
        "dieB = [1, 2, 3, 4, 5, 6]\n",
        "count = 0\n",
        "\n",
        "for i in range(len(dieA)):\n",
        "    for j in range(len(dieB)):\n",
        "        count += 1\n",
        "\n",
        "# Mathematically using combinations, nCr\n",
        "# count = (factorial(6)/(factorial(5)*factorial(1)))^2\n",
        "total_combinations = math.comb(len(dieA), 1) ** 2\n",
        "\n",
        "print(\"Total combinations possible:\", total_combinations)\n"
      ]
    },
    {
      "cell_type": "code",
      "execution_count": 1,
      "metadata": {},
      "outputs": [
        {
          "name": "stdout",
          "output_type": "stream",
          "text": [
            "(1,1) (1,2) (1,3) (1,4) (1,5) (1,6) \n",
            "(2,1) (2,2) (2,3) (2,4) (2,5) (2,6) \n",
            "(3,1) (3,2) (3,3) (3,4) (3,5) (3,6) \n",
            "(4,1) (4,2) (4,3) (4,4) (4,5) (4,6) \n",
            "(5,1) (5,2) (5,3) (5,4) (5,5) (5,6) \n",
            "(6,1) (6,2) (6,3) (6,4) (6,5) (6,6) \n"
          ]
        }
      ],
      "source": [
        "#Question 2\n",
        "#distributio of possible cominations\n",
        "dieA = [1, 2, 3, 4, 5, 6]\n",
        "dieB = [1, 2, 3, 4, 5, 6]\n",
        "\n",
        "# Enumerating possible pairs\n",
        "for i in dieA:\n",
        "    for j in dieB:\n",
        "        print(f\"({i},{j}) \", end=\"\")\n",
        "    print()\n"
      ]
    },
    {
      "cell_type": "code",
      "execution_count": 10,
      "metadata": {
        "colab": {
          "base_uri": "https://localhost:8080/"
        },
        "id": "gAf85_RfrFvL",
        "outputId": "82ea9fbb-114b-4658-ebfd-2c15680967e3"
      },
      "outputs": [
        {
          "name": "stdout",
          "output_type": "stream",
          "text": [
            "11\n"
          ]
        }
      ],
      "source": [
        "#Question 3\n",
        "# no of combinations of sum\n",
        "die_a = list(range(1, 7))\n",
        "die_b = list(range(1, 7))\n",
        "# function to find distribution given two dies\n",
        "def outcome(die_a, die_b):\n",
        "  ans = {}\n",
        "  for x in die_a:\n",
        "    for y in die_b:\n",
        "      ans[x+y] = ans.get(x+y, 0) + 1\n",
        "  return ans\n",
        "theory_outcomes = outcome(die_a, die_b)\n",
        "## count no. of different outcomes\n",
        "print(len(theory_outcomes))\n"
      ]
    },
    {
      "cell_type": "code",
      "execution_count": 11,
      "metadata": {
        "colab": {
          "base_uri": "https://localhost:8080/"
        },
        "id": "pFvEhrXTrHci",
        "outputId": "b30382e6-a4c9-4382-f847-fb0d3bc0e230"
      },
      "outputs": [
        {
          "data": {
            "text/plain": [
              "{2: 1, 3: 2, 4: 3, 5: 4, 6: 5, 7: 6, 8: 5, 9: 4, 10: 3, 11: 2, 12: 1}"
            ]
          },
          "execution_count": 11,
          "metadata": {},
          "output_type": "execute_result"
        }
      ],
      "source": [
        "theory_outcomes"
      ]
    },
    {
      "cell_type": "code",
      "execution_count": 12,
      "metadata": {
        "colab": {
          "base_uri": "https://localhost:8080/"
        },
        "id": "anAe-OAwrHnS",
        "outputId": "7363bd22-953f-47f8-ba63-755a21be30a9"
      },
      "outputs": [
        {
          "name": "stdout",
          "output_type": "stream",
          "text": [
            "1 : 2, 3, 4, 5, 6, 7, \n",
            "2 : 3, 4, 5, 6, 7, 8, \n",
            "3 : 4, 5, 6, 7, 8, 9, \n",
            "4 : 5, 6, 7, 8, 9, 10, \n",
            "5 : 6, 7, 8, 9, 10, 11, \n",
            "6 : 7, 8, 9, 10, 11, 12, \n"
          ]
        }
      ],
      "source": [
        "# distribution of combinations\n",
        "for x in die_a:\n",
        " print(x, \": \", end=\"\")\n",
        " for y in die_b:\n",
        "   print(str(x+y)+\", \", end=\"\")\n",
        " print()"
      ]
    },
    {
      "cell_type": "code",
      "execution_count": 13,
      "metadata": {
        "colab": {
          "base_uri": "https://localhost:8080/"
        },
        "id": "Te68zBlxrHwl",
        "outputId": "6ab06ef4-c5e9-4abf-d983-2180407dcd8f"
      },
      "outputs": [
        {
          "name": "stdout",
          "output_type": "stream",
          "text": [
            "{2: 0.028, 3: 0.056, 4: 0.083, 5: 0.111, 6: 0.139, 7: 0.167, 8: 0.139, 9: 0.111, 10: 0.083, 11: 0.056, 12: 0.028}\n"
          ]
        }
      ],
      "source": [
        "# probability of distribution\n",
        "# convert count to probability\n",
        "def probability(dic):\n",
        "  total = sum(dic.values())\n",
        "  return {ele:round(dic[ele]/total, 3) for ele in dic}\n",
        "theory_pro = probability(theory_outcomes)\n",
        "print(theory_pro)"
      ]
    },
    {
      "cell_type": "code",
      "execution_count": 14,
      "metadata": {
        "colab": {
          "base_uri": "https://localhost:8080/",
          "height": 425
        },
        "id": "ozavRSpds_Og",
        "outputId": "058b96ae-1b16-4025-9ad4-3e557225c97f"
      },
      "outputs": [
        {
          "data": {
            "application/vnd.google.colaboratory.intrinsic+json": {
              "summary": "{\n  \"name\": \"data\",\n  \"rows\": 11,\n  \"fields\": [\n    {\n      \"column\": \"Theory\",\n      \"properties\": {\n        \"dtype\": \"number\",\n        \"std\": 0.04658325879540847,\n        \"min\": 0.028,\n        \"max\": 0.167,\n        \"samples\": [\n          0.028,\n          0.056,\n          0.167\n        ],\n        \"num_unique_values\": 6,\n        \"semantic_type\": \"\",\n        \"description\": \"\"\n      }\n    },\n    {\n      \"column\": \"Practical\",\n      \"properties\": {\n        \"dtype\": \"number\",\n        \"std\": 0.04677917174438759,\n        \"min\": 0.028,\n        \"max\": 0.167,\n        \"samples\": [\n          0.028,\n          0.055,\n          0.167\n        ],\n        \"num_unique_values\": 7,\n        \"semantic_type\": \"\",\n        \"description\": \"\"\n      }\n    }\n  ]\n}",
              "type": "dataframe"
            },
            "text/html": [
              "\n",
              "  <div id=\"df-0336f4f2-8771-4888-93ac-51ec5f4bcc0c\" class=\"colab-df-container\">\n",
              "    <div>\n",
              "<style scoped>\n",
              "    .dataframe tbody tr th:only-of-type {\n",
              "        vertical-align: middle;\n",
              "    }\n",
              "\n",
              "    .dataframe tbody tr th {\n",
              "        vertical-align: top;\n",
              "    }\n",
              "\n",
              "    .dataframe thead th {\n",
              "        text-align: right;\n",
              "    }\n",
              "</style>\n",
              "<table border=\"1\" class=\"dataframe\">\n",
              "  <thead>\n",
              "    <tr style=\"text-align: right;\">\n",
              "      <th></th>\n",
              "      <th>Theory</th>\n",
              "      <th>Practical</th>\n",
              "    </tr>\n",
              "    <tr>\n",
              "      <th>x</th>\n",
              "      <th></th>\n",
              "      <th></th>\n",
              "    </tr>\n",
              "  </thead>\n",
              "  <tbody>\n",
              "    <tr>\n",
              "      <th>2</th>\n",
              "      <td>0.028</td>\n",
              "      <td>0.028</td>\n",
              "    </tr>\n",
              "    <tr>\n",
              "      <th>3</th>\n",
              "      <td>0.056</td>\n",
              "      <td>0.055</td>\n",
              "    </tr>\n",
              "    <tr>\n",
              "      <th>4</th>\n",
              "      <td>0.083</td>\n",
              "      <td>0.083</td>\n",
              "    </tr>\n",
              "    <tr>\n",
              "      <th>5</th>\n",
              "      <td>0.111</td>\n",
              "      <td>0.111</td>\n",
              "    </tr>\n",
              "    <tr>\n",
              "      <th>6</th>\n",
              "      <td>0.139</td>\n",
              "      <td>0.139</td>\n",
              "    </tr>\n",
              "    <tr>\n",
              "      <th>7</th>\n",
              "      <td>0.167</td>\n",
              "      <td>0.167</td>\n",
              "    </tr>\n",
              "    <tr>\n",
              "      <th>8</th>\n",
              "      <td>0.139</td>\n",
              "      <td>0.139</td>\n",
              "    </tr>\n",
              "    <tr>\n",
              "      <th>9</th>\n",
              "      <td>0.111</td>\n",
              "      <td>0.112</td>\n",
              "    </tr>\n",
              "    <tr>\n",
              "      <th>10</th>\n",
              "      <td>0.083</td>\n",
              "      <td>0.083</td>\n",
              "    </tr>\n",
              "    <tr>\n",
              "      <th>11</th>\n",
              "      <td>0.056</td>\n",
              "      <td>0.055</td>\n",
              "    </tr>\n",
              "    <tr>\n",
              "      <th>12</th>\n",
              "      <td>0.028</td>\n",
              "      <td>0.028</td>\n",
              "    </tr>\n",
              "  </tbody>\n",
              "</table>\n",
              "</div>\n",
              "    <div class=\"colab-df-buttons\">\n",
              "\n",
              "  <div class=\"colab-df-container\">\n",
              "    <button class=\"colab-df-convert\" onclick=\"convertToInteractive('df-0336f4f2-8771-4888-93ac-51ec5f4bcc0c')\"\n",
              "            title=\"Convert this dataframe to an interactive table.\"\n",
              "            style=\"display:none;\">\n",
              "\n",
              "  <svg xmlns=\"http://www.w3.org/2000/svg\" height=\"24px\" viewBox=\"0 -960 960 960\">\n",
              "    <path d=\"M120-120v-720h720v720H120Zm60-500h600v-160H180v160Zm220 220h160v-160H400v160Zm0 220h160v-160H400v160ZM180-400h160v-160H180v160Zm440 0h160v-160H620v160ZM180-180h160v-160H180v160Zm440 0h160v-160H620v160Z\"/>\n",
              "  </svg>\n",
              "    </button>\n",
              "\n",
              "  <style>\n",
              "    .colab-df-container {\n",
              "      display:flex;\n",
              "      gap: 12px;\n",
              "    }\n",
              "\n",
              "    .colab-df-convert {\n",
              "      background-color: #E8F0FE;\n",
              "      border: none;\n",
              "      border-radius: 50%;\n",
              "      cursor: pointer;\n",
              "      display: none;\n",
              "      fill: #1967D2;\n",
              "      height: 32px;\n",
              "      padding: 0 0 0 0;\n",
              "      width: 32px;\n",
              "    }\n",
              "\n",
              "    .colab-df-convert:hover {\n",
              "      background-color: #E2EBFA;\n",
              "      box-shadow: 0px 1px 2px rgba(60, 64, 67, 0.3), 0px 1px 3px 1px rgba(60, 64, 67, 0.15);\n",
              "      fill: #174EA6;\n",
              "    }\n",
              "\n",
              "    .colab-df-buttons div {\n",
              "      margin-bottom: 4px;\n",
              "    }\n",
              "\n",
              "    [theme=dark] .colab-df-convert {\n",
              "      background-color: #3B4455;\n",
              "      fill: #D2E3FC;\n",
              "    }\n",
              "\n",
              "    [theme=dark] .colab-df-convert:hover {\n",
              "      background-color: #434B5C;\n",
              "      box-shadow: 0px 1px 3px 1px rgba(0, 0, 0, 0.15);\n",
              "      filter: drop-shadow(0px 1px 2px rgba(0, 0, 0, 0.3));\n",
              "      fill: #FFFFFF;\n",
              "    }\n",
              "  </style>\n",
              "\n",
              "    <script>\n",
              "      const buttonEl =\n",
              "        document.querySelector('#df-0336f4f2-8771-4888-93ac-51ec5f4bcc0c button.colab-df-convert');\n",
              "      buttonEl.style.display =\n",
              "        google.colab.kernel.accessAllowed ? 'block' : 'none';\n",
              "\n",
              "      async function convertToInteractive(key) {\n",
              "        const element = document.querySelector('#df-0336f4f2-8771-4888-93ac-51ec5f4bcc0c');\n",
              "        const dataTable =\n",
              "          await google.colab.kernel.invokeFunction('convertToInteractive',\n",
              "                                                    [key], {});\n",
              "        if (!dataTable) return;\n",
              "\n",
              "        const docLinkHtml = 'Like what you see? Visit the ' +\n",
              "          '<a target=\"_blank\" href=https://colab.research.google.com/notebooks/data_table.ipynb>data table notebook</a>'\n",
              "          + ' to learn more about interactive tables.';\n",
              "        element.innerHTML = '';\n",
              "        dataTable['output_type'] = 'display_data';\n",
              "        await google.colab.output.renderOutput(dataTable, element);\n",
              "        const docLink = document.createElement('div');\n",
              "        docLink.innerHTML = docLinkHtml;\n",
              "        element.appendChild(docLink);\n",
              "      }\n",
              "    </script>\n",
              "  </div>\n",
              "\n",
              "\n",
              "<div id=\"df-40ad11ee-f25e-46f6-ba28-578c9d2a8fa0\">\n",
              "  <button class=\"colab-df-quickchart\" onclick=\"quickchart('df-40ad11ee-f25e-46f6-ba28-578c9d2a8fa0')\"\n",
              "            title=\"Suggest charts\"\n",
              "            style=\"display:none;\">\n",
              "\n",
              "<svg xmlns=\"http://www.w3.org/2000/svg\" height=\"24px\"viewBox=\"0 0 24 24\"\n",
              "     width=\"24px\">\n",
              "    <g>\n",
              "        <path d=\"M19 3H5c-1.1 0-2 .9-2 2v14c0 1.1.9 2 2 2h14c1.1 0 2-.9 2-2V5c0-1.1-.9-2-2-2zM9 17H7v-7h2v7zm4 0h-2V7h2v10zm4 0h-2v-4h2v4z\"/>\n",
              "    </g>\n",
              "</svg>\n",
              "  </button>\n",
              "\n",
              "<style>\n",
              "  .colab-df-quickchart {\n",
              "      --bg-color: #E8F0FE;\n",
              "      --fill-color: #1967D2;\n",
              "      --hover-bg-color: #E2EBFA;\n",
              "      --hover-fill-color: #174EA6;\n",
              "      --disabled-fill-color: #AAA;\n",
              "      --disabled-bg-color: #DDD;\n",
              "  }\n",
              "\n",
              "  [theme=dark] .colab-df-quickchart {\n",
              "      --bg-color: #3B4455;\n",
              "      --fill-color: #D2E3FC;\n",
              "      --hover-bg-color: #434B5C;\n",
              "      --hover-fill-color: #FFFFFF;\n",
              "      --disabled-bg-color: #3B4455;\n",
              "      --disabled-fill-color: #666;\n",
              "  }\n",
              "\n",
              "  .colab-df-quickchart {\n",
              "    background-color: var(--bg-color);\n",
              "    border: none;\n",
              "    border-radius: 50%;\n",
              "    cursor: pointer;\n",
              "    display: none;\n",
              "    fill: var(--fill-color);\n",
              "    height: 32px;\n",
              "    padding: 0;\n",
              "    width: 32px;\n",
              "  }\n",
              "\n",
              "  .colab-df-quickchart:hover {\n",
              "    background-color: var(--hover-bg-color);\n",
              "    box-shadow: 0 1px 2px rgba(60, 64, 67, 0.3), 0 1px 3px 1px rgba(60, 64, 67, 0.15);\n",
              "    fill: var(--button-hover-fill-color);\n",
              "  }\n",
              "\n",
              "  .colab-df-quickchart-complete:disabled,\n",
              "  .colab-df-quickchart-complete:disabled:hover {\n",
              "    background-color: var(--disabled-bg-color);\n",
              "    fill: var(--disabled-fill-color);\n",
              "    box-shadow: none;\n",
              "  }\n",
              "\n",
              "  .colab-df-spinner {\n",
              "    border: 2px solid var(--fill-color);\n",
              "    border-color: transparent;\n",
              "    border-bottom-color: var(--fill-color);\n",
              "    animation:\n",
              "      spin 1s steps(1) infinite;\n",
              "  }\n",
              "\n",
              "  @keyframes spin {\n",
              "    0% {\n",
              "      border-color: transparent;\n",
              "      border-bottom-color: var(--fill-color);\n",
              "      border-left-color: var(--fill-color);\n",
              "    }\n",
              "    20% {\n",
              "      border-color: transparent;\n",
              "      border-left-color: var(--fill-color);\n",
              "      border-top-color: var(--fill-color);\n",
              "    }\n",
              "    30% {\n",
              "      border-color: transparent;\n",
              "      border-left-color: var(--fill-color);\n",
              "      border-top-color: var(--fill-color);\n",
              "      border-right-color: var(--fill-color);\n",
              "    }\n",
              "    40% {\n",
              "      border-color: transparent;\n",
              "      border-right-color: var(--fill-color);\n",
              "      border-top-color: var(--fill-color);\n",
              "    }\n",
              "    60% {\n",
              "      border-color: transparent;\n",
              "      border-right-color: var(--fill-color);\n",
              "    }\n",
              "    80% {\n",
              "      border-color: transparent;\n",
              "      border-right-color: var(--fill-color);\n",
              "      border-bottom-color: var(--fill-color);\n",
              "    }\n",
              "    90% {\n",
              "      border-color: transparent;\n",
              "      border-bottom-color: var(--fill-color);\n",
              "    }\n",
              "  }\n",
              "</style>\n",
              "\n",
              "  <script>\n",
              "    async function quickchart(key) {\n",
              "      const quickchartButtonEl =\n",
              "        document.querySelector('#' + key + ' button');\n",
              "      quickchartButtonEl.disabled = true;  // To prevent multiple clicks.\n",
              "      quickchartButtonEl.classList.add('colab-df-spinner');\n",
              "      try {\n",
              "        const charts = await google.colab.kernel.invokeFunction(\n",
              "            'suggestCharts', [key], {});\n",
              "      } catch (error) {\n",
              "        console.error('Error during call to suggestCharts:', error);\n",
              "      }\n",
              "      quickchartButtonEl.classList.remove('colab-df-spinner');\n",
              "      quickchartButtonEl.classList.add('colab-df-quickchart-complete');\n",
              "    }\n",
              "    (() => {\n",
              "      let quickchartButtonEl =\n",
              "        document.querySelector('#df-40ad11ee-f25e-46f6-ba28-578c9d2a8fa0 button');\n",
              "      quickchartButtonEl.style.display =\n",
              "        google.colab.kernel.accessAllowed ? 'block' : 'none';\n",
              "    })();\n",
              "  </script>\n",
              "</div>\n",
              "\n",
              "    </div>\n",
              "  </div>\n"
            ],
            "text/plain": [
              "    Theory  Practical\n",
              "x                    \n",
              "2    0.028      0.028\n",
              "3    0.056      0.055\n",
              "4    0.083      0.083\n",
              "5    0.111      0.111\n",
              "6    0.139      0.139\n",
              "7    0.167      0.167\n",
              "8    0.139      0.139\n",
              "9    0.111      0.112\n",
              "10   0.083      0.083\n",
              "11   0.056      0.055\n",
              "12   0.028      0.028"
            ]
          },
          "execution_count": 14,
          "metadata": {},
          "output_type": "execute_result"
        }
      ],
      "source": [
        "from random import choice\n",
        "import pandas as pd\n",
        "practical_outcome = {}\n",
        "for _ in range(int(10e5)):\n",
        "    x = choice(die_a)\n",
        "    y = choice(die_b)\n",
        "    practical_outcome[x+y] = practical_outcome.get(x+y, 0) + 1\n",
        "practical_pro = probability(practical_outcome)\n",
        "# converting to dataframe\n",
        "data = []\n",
        "for i in theory_pro:\n",
        "   data.append([i, theory_pro[i], practical_pro[i]])\n",
        "data = pd.DataFrame(data, columns=['x', 'Theory', 'Practical'])\n",
        "data.set_index('x')\n"
      ]
    },
    {
      "cell_type": "code",
      "execution_count": 19,
      "metadata": {
        "id": "XupRx9aAtMht"
      },
      "outputs": [],
      "source": [
        "#Question 4\n",
        "def undoom_dice(die_a, die_b):\n",
        "# from theory\n",
        "   new_die_a = [1, 2, 2, 3, 3, 4]\n",
        "# desired outcome\n",
        "   desired = outcome(die_a, die_b)\n",
        "   new_die_b = []\n",
        "# start from left and add desired_value - 1(minimum die value) to the die b\n",
        "# do untill desired turns 0 for all outcomes\n",
        "   for pos in desired:\n",
        "       if desired[pos] > 0:\n",
        "          new_die_b.append(pos-1)\n",
        "          cur = outcome(new_die_a, [pos-1])\n",
        "# removing the got distribution from desired\n",
        "          for out in cur:\n",
        "              desired[out] -= cur[out]\n",
        "   for pos in desired:\n",
        "       if desired[pos] != 0:\n",
        "# if desired not reached\n",
        "# no solution\n",
        "           return [], []\n",
        "   return new_die_a, new_die_b"
      ]
    },
    {
      "cell_type": "code",
      "execution_count": 20,
      "metadata": {
        "colab": {
          "base_uri": "https://localhost:8080/"
        },
        "id": "ldoeTMY0t-yI",
        "outputId": "e8d8a279-0253-46cf-c217-cb9f4a509fd7"
      },
      "outputs": [
        {
          "data": {
            "text/plain": [
              "([1, 2, 2, 3, 3, 4], [1, 3, 4, 5, 6, 8])"
            ]
          },
          "execution_count": 20,
          "metadata": {},
          "output_type": "execute_result"
        }
      ],
      "source": [
        "undoom_dice([1, 2, 3, 4, 5, 6], [1, 2, 3, 4, 5, 6])"
      ]
    }
  ],
  "metadata": {
    "colab": {
      "provenance": []
    },
    "kernelspec": {
      "display_name": "Python 3",
      "name": "python3"
    },
    "language_info": {
      "codemirror_mode": {
        "name": "ipython",
        "version": 3
      },
      "file_extension": ".py",
      "mimetype": "text/x-python",
      "name": "python",
      "nbconvert_exporter": "python",
      "pygments_lexer": "ipython3",
      "version": "3.11.2"
    }
  },
  "nbformat": 4,
  "nbformat_minor": 0
}
